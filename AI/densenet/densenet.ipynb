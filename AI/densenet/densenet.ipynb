{
 "cells": [
  {
   "cell_type": "code",
   "execution_count": 1,
   "id": "cf759d3b-d5a5-4a2e-b6c7-ebed57f1eae1",
   "metadata": {},
   "outputs": [],
   "source": [
    "import pandas as pd\n",
    "import numpy as np\n",
    "from PIL import Image\n",
    "import requests\n",
    "from io import BytesIO\n",
    "import torch\n",
    "import torch.nn as nn\n",
    "import torchvision.transforms as transforms\n",
    "from torchvision.models import densenet121, DenseNet121_Weights\n",
    "from torch.nn.functional import cosine_similarity\n",
    "from tqdm.notebook import tqdm"
   ]
  },
  {
   "cell_type": "code",
   "execution_count": 2,
   "id": "bdbe0fa2-2642-46c4-b717-4fafbc93fb6b",
   "metadata": {},
   "outputs": [],
   "source": [
    "df = pd.read_csv('./tourism_data.csv')"
   ]
  },
  {
   "cell_type": "code",
   "execution_count": 3,
   "id": "df91da5a-9793-43cb-8be6-f9965f4c3f47",
   "metadata": {},
   "outputs": [
    {
     "name": "stdout",
     "output_type": "stream",
     "text": [
      "<class 'pandas.core.frame.DataFrame'>\n",
      "RangeIndex: 3043 entries, 0 to 3042\n",
      "Data columns (total 6 columns):\n",
      " #   Column                  Non-Null Count  Dtype  \n",
      "---  ------                  --------------  -----  \n",
      " 0   galContentId            3041 non-null   float64\n",
      " 1   galTitle                3043 non-null   object \n",
      " 2   galWebImageUrl          3043 non-null   object \n",
      " 3   galSearchKeyword        3042 non-null   object \n",
      " 4   processedLocation       3043 non-null   object \n",
      " 5   galPhotographyLocation  3043 non-null   object \n",
      "dtypes: float64(1), object(5)\n",
      "memory usage: 142.8+ KB\n"
     ]
    }
   ],
   "source": [
    "df.info()"
   ]
  },
  {
   "cell_type": "code",
   "execution_count": 4,
   "id": "c7bf5f95-27a0-42db-b282-98a85ef79e0a",
   "metadata": {},
   "outputs": [],
   "source": [
    "# DenseNet 모델 불러오기 및 feature extractor 설정\n",
    "weights = DenseNet121_Weights.IMAGENET1K_V1\n",
    "model = densenet121(weights=weights)\n",
    "model.classifier = nn.Identity()  # DenseNet의 분류기를 제거하고 feature extractor로 사용\n",
    "model.eval()\n",
    "\n",
    "# 이미지 전처리 함수\n",
    "def preprocess_image(image_path, is_url=False):\n",
    "    transform = transforms.Compose([\n",
    "        transforms.Resize((224, 224)),\n",
    "        transforms.ToTensor(),\n",
    "        transforms.Normalize(mean=[0.485, 0.456, 0.406], std=[0.229, 0.224, 0.225]),\n",
    "    ])\n",
    "    if is_url:\n",
    "        response = requests.get(image_path)\n",
    "        image = Image.open(BytesIO(response.content)).convert('RGB')\n",
    "    else:\n",
    "        image = Image.open(image_path).convert('RGB')\n",
    "    image = transform(image).unsqueeze(0)\n",
    "    return image\n",
    "\n",
    "# 이미지 임베딩 생성 함수\n",
    "def get_image_embedding(image_path, is_url=False):\n",
    "    image_tensor = preprocess_image(image_path, is_url)\n",
    "    with torch.no_grad():\n",
    "        embedding = model(image_tensor)\n",
    "    return embedding.numpy()  # numpy 배열로 변환"
   ]
  },
  {
   "cell_type": "code",
   "execution_count": null,
   "id": "29af5439-1759-4b8f-893d-eac61290f560",
   "metadata": {},
   "outputs": [
    {
     "data": {
      "application/vnd.jupyter.widget-view+json": {
       "model_id": "8be58233e89748dcb4bf98a9596008cd",
       "version_major": 2,
       "version_minor": 0
      },
      "text/plain": [
       "  0%|          | 0/3043 [00:00<?, ?it/s]"
      ]
     },
     "metadata": {},
     "output_type": "display_data"
    }
   ],
   "source": [
    "# 모든 이미지의 임베딩을 계산하여 저장\n",
    "embeddings = []\n",
    "for idx, row in tqdm(df.iterrows(), total=len(df)):\n",
    "    try:\n",
    "        db_image_url = row['galWebImageUrl']\n",
    "        embedding = get_image_embedding(db_image_url, is_url=True)\n",
    "        embeddings.append(embedding)\n",
    "    except Exception as e:\n",
    "        print(f\"Error processing image at index {idx}: {e}\")\n",
    "        embeddings.append(None)\n",
    "\n",
    "df['embedding'] = embeddings\n",
    "\n",
    "# 임베딩을 저장\n",
    "df.to_pickle('densenet_embedding.pkl')"
   ]
  },
  {
   "cell_type": "code",
   "execution_count": 24,
   "id": "b1b56b9b-0465-4885-b2c7-ae1fb0c717d3",
   "metadata": {},
   "outputs": [
    {
     "name": "stdout",
     "output_type": "stream",
     "text": [
      "Similarity: 70.84%, Location: 강원도 춘천시 죽림동, Image URL: http://tong.visitkorea.or.kr/cms2/website/32/2802432.jpeg\n",
      "Similarity: 70.50%, Location: 대구광역시 달서구 신당동, Image URL: http://tong.visitkorea.or.kr/cms2/website/54/2951954.jpg\n",
      "Similarity: 70.43%, Location: 경상북도 칠곡군, Image URL: http://tong.visitkorea.or.kr/cms2/website/65/1053465.jpg\n"
     ]
    }
   ],
   "source": [
    "# 임베딩이 저장된 데이터프레임 불러오기\n",
    "df = pd.read_pickle('densenet_embedding.pkl')\n",
    "\n",
    "# 사용자 입력 이미지 경로 (로컬 파일 경로)\n",
    "input_image_path = './몽마르트.jpg'\n",
    "input_image_embedding = get_image_embedding(input_image_path, is_url=False)\n",
    "\n",
    "# 데이터프레임의 이미지와 비교하여 유사도 계산\n",
    "similarities = []\n",
    "for idx, row in df.iterrows():\n",
    "    if row['embedding'] is not None:\n",
    "        db_image_embedding = row['embedding']\n",
    "        similarity = cosine_similarity(torch.tensor(input_image_embedding), torch.tensor(db_image_embedding)).item()  # PyTorch 코사인 유사도 계산\n",
    "        similarity_percentage = similarity * 100  # 유사도를 백분율로 변환\n",
    "        similarities.append((similarity_percentage, row['galPhotographyLocation'], row['galWebImageUrl']))\n",
    "\n",
    "# 유사성 내림차순으로 정렬하여 가장 유사한 이미지 출력\n",
    "similarities.sort(reverse=True, key=lambda x: x[0])\n",
    "top_similarities = similarities[:3]\n",
    "\n",
    "# 결과 출력\n",
    "for similarity, processedLocation, image_url in top_similarities:\n",
    "    print(f\"Similarity: {similarity:.2f}%, Location: {processedLocation}, Image URL: {image_url}\")\n"
   ]
  },
  {
   "cell_type": "code",
   "execution_count": null,
   "id": "35c2aab6-cdb6-4549-8633-183c09385457",
   "metadata": {},
   "outputs": [],
   "source": []
  }
 ],
 "metadata": {
  "kernelspec": {
   "display_name": "Python 3 (ipykernel)",
   "language": "python",
   "name": "python3"
  },
  "language_info": {
   "codemirror_mode": {
    "name": "ipython",
    "version": 3
   },
   "file_extension": ".py",
   "mimetype": "text/x-python",
   "name": "python",
   "nbconvert_exporter": "python",
   "pygments_lexer": "ipython3",
   "version": "3.10.10"
  }
 },
 "nbformat": 4,
 "nbformat_minor": 5
}
